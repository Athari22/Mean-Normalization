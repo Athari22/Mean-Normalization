{
  "cells": [
    {
      "cell_type": "markdown",
      "metadata": {
        "id": "Tra-HxFljudD"
      },
      "source": [
        "# Mean Normalization\n",
        "\n",
        "In machine learning we use large amounts of data to train our models. Some machine learning algorithms may require that the data is *normalized* in order to work correctly. The idea of normalization, also known as *feature scaling*, is to ensure that all the data is on a similar scale, *i.e.* that all the data takes on a similar range of values. For example, we might have a dataset that has values between 0 and 5,000. By normalizing the data we can make the range of values be between 0 and 1.\n",
        "\n",
        "In this lab, you will be performing a different kind of feature scaling known as *mean normalization*. Mean normalization will scale the data, but instead of making the values be between 0 and 1, it will distribute the values evenly in some small interval around zero. For example, if we have a dataset that has values between 0 and 5,000, after mean normalization the range of values will be distributed in some small range around 0, for example between -3 to 3. Because the range of values are distributed evenly around zero, this guarantees that the average (mean) of all elements will be zero. Therefore, when you perform *mean normalization* your data will not only be scaled but it will also have an average of zero.\n",
        "\n",
        "# To Do:\n",
        "\n",
        "You will start by importing NumPy and creating a rank 2 ndarray of random integers between 0 and 5,000 (inclusive) with 1000 rows and 20 columns. This array will simulate a dataset with a wide range of values. Fill in the code below"
      ]
    },
    {
      "cell_type": "code",
      "execution_count": null,
      "metadata": {
        "colab": {
          "base_uri": "https://localhost:8080/"
        },
        "id": "QvbHkfNGjudF",
        "outputId": "ef1ceba5-f50e-42a1-bee9-be611a2b2b96"
      },
      "outputs": [
        {
          "output_type": "stream",
          "name": "stdout",
          "text": [
            "(1000, 20)\n"
          ]
        }
      ],
      "source": [
        "# import NumPy into Python\n",
        "import numpy as np\n",
        "\n",
        "# Create a 1000 x 20 ndarray with random integers in the half-open interval [0, 5001).\n",
        "X = np.random.randint(0, 5001, size=(1000, 20))\n",
        "\n",
        "# print the shape of X\n",
        "print(X.shape)"
      ]
    },
    {
      "cell_type": "markdown",
      "metadata": {
        "id": "txowl9CcjudG"
      },
      "source": [
        "Now that you created the array we will mean normalize it. We will perform mean normalization using the following equation:\n",
        "\n",
        "$\\mbox{Norm_Col}_i = \\frac{\\mbox{Col}_i - \\mu_i}{\\sigma_i}$\n",
        "\n",
        "where $\\mbox{Col}_i$ is the $i$th column of $X$, $\\mu_i$ is average of the values in the $i$th column of $X$, and $\\sigma_i$ is the standard deviation of the values in the $i$th column of $X$. In other words, mean normalization is performed by subtracting from each column of $X$ the average of its values, and then by dividing by the standard deviation of its values. In the space below, you will first calculate the average and standard deviation of each column of $X$."
      ]
    },
    {
      "cell_type": "code",
      "execution_count": null,
      "metadata": {
        "id": "MQdIHqnqjudG"
      },
      "outputs": [],
      "source": [
        "# Average of the values in each column of X\n",
        "ave_cols =  np.mean(X, axis=0)\n",
        "\n",
        "# Standard Deviation of the values in each column of X\n",
        "std_cols = np.std(X, axis=0)"
      ]
    },
    {
      "cell_type": "markdown",
      "metadata": {
        "id": "rWsj-DCGjudH"
      },
      "source": [
        "If you have done the above calculations correctly, then `ave_cols` and `std_cols`, should both be vectors with shape `(20,)` since $X$ has 20 columns. You can verify this by filling the code below:"
      ]
    },
    {
      "cell_type": "code",
      "execution_count": null,
      "metadata": {
        "colab": {
          "base_uri": "https://localhost:8080/"
        },
        "id": "nfrDD1AwjudH",
        "outputId": "3febd8fe-ac2a-44fd-9a14-58010c7d0d9a"
      },
      "outputs": [
        {
          "output_type": "stream",
          "name": "stdout",
          "text": [
            "(20,)\n",
            "(20,)\n"
          ]
        }
      ],
      "source": [
        "# Print the shape of ave_cols\n",
        "print(ave_cols.shape)\n",
        "\n",
        "# Print the shape of std_cols\n",
        "print(std_cols.shape)"
      ]
    },
    {
      "cell_type": "markdown",
      "metadata": {
        "id": "LNFo6Nj9judH"
      },
      "source": [
        "You can now take advantage of Broadcasting to calculate the mean normalized version of $X$ in just one line of code using the equation above. Fill in the code below"
      ]
    },
    {
      "cell_type": "code",
      "execution_count": null,
      "metadata": {
        "colab": {
          "base_uri": "https://localhost:8080/"
        },
        "id": "P75mhUNKjudH",
        "outputId": "30cc3121-51f9-42cf-ede3-b1866c0420f9"
      },
      "outputs": [
        {
          "output_type": "execute_result",
          "data": {
            "text/plain": [
              "array([[-1.12471998, -0.21554555, -1.2571422 , ..., -0.19451187,\n",
              "         0.3076688 ,  0.95186437],\n",
              "       [ 0.26408141,  0.08444063, -1.53202011, ..., -0.99855156,\n",
              "        -0.97098424,  0.47438944],\n",
              "       [ 1.25529354, -0.79497093,  0.05790648, ...,  0.85309234,\n",
              "         1.09836979,  0.65326853],\n",
              "       ...,\n",
              "       [-1.15371086, -0.80181993,  0.87776566, ...,  0.45038055,\n",
              "        -1.4493686 , -0.11444991],\n",
              "       [ 0.96124314,  0.15430043,  0.01698173, ...,  0.22273076,\n",
              "         0.81817324, -0.92393   ],\n",
              "       [ 1.49550372,  1.17822588,  0.98826249, ..., -0.51211447,\n",
              "         0.75598328, -0.40817355]])"
            ]
          },
          "metadata": {},
          "execution_count": 5
        }
      ],
      "source": [
        "# Mean normalize X\n",
        "X_norm = (X - ave_cols) / std_cols\n",
        "X_norm\n"
      ]
    },
    {
      "cell_type": "markdown",
      "metadata": {
        "id": "ExgXslG6judH"
      },
      "source": [
        "If you have performed the mean normalization correctly, then the average of all the elements in $X_{\\tiny{\\mbox{norm}}}$ should be close to zero, and they should be evenly distributed in some small interval around zero. You can verify this by filing the code below:"
      ]
    },
    {
      "cell_type": "code",
      "execution_count": null,
      "metadata": {
        "colab": {
          "base_uri": "https://localhost:8080/"
        },
        "id": "CK7ZEOTXjudI",
        "outputId": "99e6d52f-1d92-4d68-98cb-7d814a842fe7"
      },
      "outputs": [
        {
          "output_type": "stream",
          "name": "stdout",
          "text": [
            "Average of all values in X_norm: 1.2434497875801753e-18\n",
            "Average of the minimum values in each column of X_norm: -1.7413907506769761\n",
            "Average of the maximum values in each column of X_norm: 1.715588338159138\n"
          ]
        }
      ],
      "source": [
        "# Print the average of all the values of X_norm\n",
        "average_all_values = np.mean(X_norm)\n",
        "print(\"Average of all values in X_norm:\", average_all_values)\n",
        "\n",
        "# Print the average of the minimum values in each column of X_norm\n",
        "average_min_values = np.mean(np.min(X_norm, axis=0))\n",
        "print(\"Average of the minimum values in each column of X_norm:\", average_min_values)\n",
        "\n",
        "# Print the average of the maximum values in each column of X_norm\n",
        "average_max_values = np.mean(np.max(X_norm, axis=0))\n",
        "print(\"Average of the maximum values in each column of X_norm:\", average_max_values)\n"
      ]
    },
    {
      "cell_type": "markdown",
      "metadata": {
        "id": "Ch7UHePkjudI"
      },
      "source": [
        "You should note that since $X$ was created using random integers, the above values will vary.\n",
        "\n",
        "# Data Separation\n",
        "\n",
        "After the data has been mean normalized, it is customary in machine learnig to split our dataset into three sets:\n",
        "\n",
        "1. A Training Set\n",
        "2. A Cross Validation Set\n",
        "3. A Test Set\n",
        "\n",
        "The dataset is usually divided such that the Training Set contains 60% of the data, the Cross Validation Set contains 20% of the data, and the Test Set contains 20% of the data.\n",
        "\n",
        "In this part of the lab you will separate `X_norm` into a Training Set, Cross Validation Set, and a Test Set. Each data set will contain rows of `X_norm` chosen at random, making sure that we don't pick the same row twice. This will guarantee that all the rows of `X_norm` are chosen and randomly distributed among the three new sets.\n",
        "\n",
        "You will start by creating a rank 1 ndarray that contains a random permutation of the row indices of `X_norm`. You can do this by using the `np.random.permutation()` function. The `np.random.permutation(N)` function creates a random permutation of integers from 0 to `N - 1`. Let's see an example:"
      ]
    },
    {
      "cell_type": "code",
      "execution_count": null,
      "metadata": {
        "colab": {
          "base_uri": "https://localhost:8080/"
        },
        "id": "HqTuwPprjudI",
        "outputId": "4c5f0db6-bbd9-4d86-b86f-211422067184"
      },
      "outputs": [
        {
          "output_type": "execute_result",
          "data": {
            "text/plain": [
              "array([0, 1, 2, 4, 3])"
            ]
          },
          "metadata": {},
          "execution_count": 7
        }
      ],
      "source": [
        "# We create a random permutation of integers 0 to 4\n",
        "np.random.permutation(5)"
      ]
    },
    {
      "cell_type": "markdown",
      "metadata": {
        "id": "OOHdpbohjudI"
      },
      "source": [
        "# To Do\n",
        "\n",
        "In the space below create a rank 1 ndarray that contains a random permutation of the row indices of `X_norm`. You can do this in one line of code by extracting the number of rows of `X_norm` using the `shape` attribute and then passing it to the  `np.random.permutation()` function. Remember the `shape` attribute returns a tuple with two numbers in the form `(rows,columns)`."
      ]
    },
    {
      "cell_type": "markdown",
      "metadata": {
        "id": "hivm6oivjudI"
      },
      "source": [
        "Now you can create the three datasets using the `row_indices` ndarray to select the rows that will go into each dataset. Rememeber that the Training Set contains 60% of the data, the Cross Validation Set contains 20% of the data, and the Test Set contains 20% of the data. Each set requires just one line of code to create. Fill in the code below"
      ]
    },
    {
      "cell_type": "code",
      "source": [
        "# Create a rank 1 nd array that contains a random permutation of the row indices of `X_norm`\n",
        "row_indices = np.random.permutation(X_norm.shape[0])"
      ],
      "metadata": {
        "id": "7VNXEBvXlPpi"
      },
      "execution_count": null,
      "outputs": []
    },
    {
      "cell_type": "code",
      "execution_count": null,
      "metadata": {
        "id": "1_UXiWfHjudJ"
      },
      "outputs": [],
      "source": [
        "# Make any necessary calculations.\n",
        "# You can save your calculations into variables to use later.\n",
        "# Define the split percentages\n",
        "train_size = int(0.6 * X_norm.shape[0])  # 60% for training\n",
        "cv_size = int(0.2 * X_norm.shape[0])     # 20% for cross validation\n",
        "test_size = X_norm.shape[0] - train_size - cv_size  # Remaining 20% for test\n",
        "\n",
        "# Create a Training Set\n",
        "X_train = X_norm[row_indices[:train_size]]\n",
        "\n",
        "# Create a Cross Validation Set\n",
        "X_crossVal = X_norm[row_indices[train_size:train_size + cv_size]]\n",
        "\n",
        "# Create a Test Set\n",
        "X_test = X_norm[row_indices[train_size + cv_size:]]"
      ]
    },
    {
      "cell_type": "markdown",
      "metadata": {
        "id": "ys-ZwQLAjudJ"
      },
      "source": [
        "If you performed the above calculations correctly, then `X_tain` should have 600 rows and 20 columns, `X_crossVal` should have 200 rows and 20 columns, and `X_test` should have 200 rows and 20 columns. You can verify this by filling the code below:"
      ]
    },
    {
      "cell_type": "code",
      "execution_count": null,
      "metadata": {
        "colab": {
          "base_uri": "https://localhost:8080/"
        },
        "id": "KFwwkEYajudJ",
        "outputId": "546c85c4-3964-4b3d-bd29-a5dc5f2bee68"
      },
      "outputs": [
        {
          "output_type": "stream",
          "name": "stdout",
          "text": [
            "(600, 20)\n",
            "(200, 20)\n",
            "(200, 20)\n"
          ]
        }
      ],
      "source": [
        "# Print the shape of X_train\n",
        "print(X_train.shape)\n",
        "\n",
        "# Print the shape of X_crossVal\n",
        "\n",
        "print(X_crossVal.shape)\n",
        "\n",
        "# Print the shape of X_test\n",
        "print(X_test.shape)"
      ]
    },
    {
      "cell_type": "code",
      "execution_count": null,
      "metadata": {
        "id": "F7TwI93mjudJ"
      },
      "outputs": [],
      "source": []
    }
  ],
  "metadata": {
    "kernelspec": {
      "display_name": "Python 3",
      "language": "python",
      "name": "python3"
    },
    "language_info": {
      "codemirror_mode": {
        "name": "ipython",
        "version": 3
      },
      "file_extension": ".py",
      "mimetype": "text/x-python",
      "name": "python",
      "nbconvert_exporter": "python",
      "pygments_lexer": "ipython3",
      "version": "3.6.3"
    },
    "colab": {
      "provenance": []
    }
  },
  "nbformat": 4,
  "nbformat_minor": 0
}